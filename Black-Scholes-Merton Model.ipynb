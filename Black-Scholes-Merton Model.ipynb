{
 "cells": [
  {
   "cell_type": "markdown",
   "id": "860d3857",
   "metadata": {},
   "source": [
    "# European Options Pricing Using the BSM Model\n",
    "\n",
    "In this project, we will be filling in an options book of missing values which includes implied volatility and basic Greeks. The formulas for the Greeks as well as the fair value for calls and puts can be found here: https://en.wikipedia.org/wiki/Greeks_(finance)#Formulas_for_European_option_Greeks."
   ]
  },
  {
   "cell_type": "markdown",
   "id": "a61080ce",
   "metadata": {},
   "source": [
    "First we need to import the necessary imports and give values for a few necessary variables. These variables include the stock's current tick price, the guaranteed interest rate, the dividend yield of the stock, and finally the time to expiration of the contracts in the units of years. From these values, we can easily calculate the forward price of the asset. "
   ]
  },
  {
   "cell_type": "code",
   "execution_count": 1,
   "id": "adad7ce7",
   "metadata": {},
   "outputs": [
    {
     "name": "stdout",
     "output_type": "stream",
     "text": [
      "Forward Price = 4018.2499999999995\n"
     ]
    }
   ],
   "source": [
    "import numpy as np\n",
    "import pandas as pd\n",
    "from scipy.stats import norm\n",
    "import math\n",
    "import time\n",
    "import matplotlib.pyplot as plt\n",
    "\n",
    "# Inputs\n",
    "S = 3998.75 # Stock Price\n",
    "R = 0.0463338426957343 # Interest Rate (Guaranteed)\n",
    "Q = 0.0178246010503463 # Dividend Yield\n",
    "T = 43/252 # Time till expiration (in years)\n",
    "\n",
    "print(\"Forward Price =\",S*np.exp((R-Q)*T))"
   ]
  },
  {
   "cell_type": "markdown",
   "id": "fac74397",
   "metadata": {},
   "source": [
    "## Make Helper Functions and Read In Data\n",
    "In the next cell, a few helper functions are defined. The 2 Phis are the cumulative distribution function and probability distribution function of a normal curve. These will be used to solve for many different formulas. The bsCalls function returns the price of a call given certain inputs. The Vega function calculates the Vega Greek given inputs. Finally, the impVolCall finds the implied volatility for calls and puts. This model assumes all price disturbances from normalacy is due to higher implied volatility. In the real world however, there can be multiple factors that can affect the price of an option from the normal distribution price. Its worth noticing that we need to find the implied volatility for every strike price before we can calculate any of the Greeks. Since there isn't a closed form solution to finding the implied volatility, we will have to iterate through implied volatilities to find the exact number. This method is a version of Newton's optimization method called the Newton-Raphson method. This sort of iteration is better than brute force and is more optimal. The tolerance for the final implied volatility can be adjusted as well as the number of iterations. Decreasing tolerance and increasing the iterations will obviously increase computing time so make a note of that. \n",
    "\n",
    "The options book is then read in as a pandas dataframe. "
   ]
  },
  {
   "cell_type": "code",
   "execution_count": 2,
   "id": "939c089e",
   "metadata": {},
   "outputs": [],
   "source": [
    "Phi = norm.cdf\n",
    "phi = norm.pdf\n",
    "\n",
    "def bsCalls(S, K, T, R, Q, vol):\n",
    "    d1 = (math.log(S/K)+(R-Q+0.5*vol**2)*T)/(vol*T**0.5)\n",
    "    d2 = d1-vol*T**0.5\n",
    "    return S*np.exp(-Q*T)*Phi(d1) - np.exp(-R*T)*K*Phi(d2)\n",
    "\n",
    "def Vega(S, K, T, R, Q, vol):\n",
    "    d1 = (math.log(S/K)+(R-Q+0.5*vol**2)*T)/(vol*T**0.5)\n",
    "    return S*np.exp(-Q*T)*phi(d1)*(T**0.5)\n",
    "\n",
    "#Calculating using Newton Raphson\n",
    "def impVolCall(price, S, K, T, R, Q, tolerance = 0.000000000001, maxIter = 400):\n",
    "    vol = 0.2\n",
    "    for i in range(maxIter):\n",
    "        diff = bsCalls(S, K, T, R, Q, vol) - price\n",
    "        if abs(diff)<tolerance:\n",
    "            break\n",
    "        changeVol = diff/Vega(S, K, T, R, Q, vol)\n",
    "        vol = vol - changeVol\n",
    "    if math.isnan(vol):\n",
    "        vol = 0.45\n",
    "        for i in range(maxIter):\n",
    "            diff = bsCalls(S, K, T, R, Q, vol) - price\n",
    "            if abs(diff)<tolerance:\n",
    "                break\n",
    "            changeVol = diff/Vega(S, K, T, R, Q, vol)\n",
    "            vol = vol - changeVol\n",
    "    return vol\n",
    "\n",
    "book = pd.read_csv(\"options book.csv\")"
   ]
  },
  {
   "cell_type": "markdown",
   "id": "8097103f",
   "metadata": {},
   "source": [
    "To help store information, we can use a python dictionaries to hold the values for every strike. "
   ]
  },
  {
   "cell_type": "code",
   "execution_count": 3,
   "id": "0572be4c",
   "metadata": {},
   "outputs": [],
   "source": [
    "# Convert Strikes and Prices to Dictionary\n",
    "bookDict = {}\n",
    "for i in range(len(book)):\n",
    "    bookDict[book[\"Strike\"][i]] = {\"Call\": book[\"Call Value\"][i], \"Put\": book[\"Put Value\"][i]} "
   ]
  },
  {
   "cell_type": "markdown",
   "id": "9169f58f",
   "metadata": {},
   "source": [
    "Now we fill in the rest of the options book. This process will take around 5-10 seconds to compute."
   ]
  },
  {
   "cell_type": "code",
   "execution_count": 5,
   "id": "64f5b5e6",
   "metadata": {},
   "outputs": [
    {
     "name": "stderr",
     "output_type": "stream",
     "text": [
      "C:\\windows\\temp/ipykernel_31056/2510001283.py:20: RuntimeWarning: divide by zero encountered in double_scalars\n",
      "  changeVol = diff/Vega(S, K, T, R, Q, vol)\n",
      "C:\\windows\\temp/ipykernel_31056/2510001283.py:5: RuntimeWarning: invalid value encountered in double_scalars\n",
      "  d1 = (math.log(S/K)+(R-Q+0.5*vol**2)*T)/(vol*T**0.5)\n",
      "C:\\windows\\temp/ipykernel_31056/2510001283.py:10: RuntimeWarning: invalid value encountered in double_scalars\n",
      "  d1 = (math.log(S/K)+(R-Q+0.5*vol**2)*T)/(vol*T**0.5)\n",
      "C:\\windows\\temp/ipykernel_31056/2510001283.py:5: RuntimeWarning: overflow encountered in double_scalars\n",
      "  d1 = (math.log(S/K)+(R-Q+0.5*vol**2)*T)/(vol*T**0.5)\n",
      "C:\\windows\\temp/ipykernel_31056/2510001283.py:10: RuntimeWarning: overflow encountered in double_scalars\n",
      "  d1 = (math.log(S/K)+(R-Q+0.5*vol**2)*T)/(vol*T**0.5)\n"
     ]
    },
    {
     "name": "stdout",
     "output_type": "stream",
     "text": [
      "Time to complete book: 6.56 seconds\n"
     ]
    }
   ],
   "source": [
    "# Fill the rest of the book\n",
    "t1 = time.time()\n",
    "for strike in bookDict:\n",
    "    cPrice = bookDict[strike][\"Call\"]\n",
    "    bookDict[strike][\"IV\"] = impVolCall(cPrice, S, strike, T, R, Q)\n",
    "    vol = bookDict[strike][\"IV\"]\n",
    "    d1 = (math.log(S/strike)+(R-Q+0.5*vol**2)*T)/(vol*T**0.5)\n",
    "    d2 = d1-vol*T**0.5\n",
    "    bookDict[strike][\"Call Delta\"] = np.exp(-Q*T)*Phi(d1)\n",
    "    bookDict[strike][\"Put Delta\"] = -np.exp(-Q*T)*Phi(-d1)\n",
    "    bookDict[strike][\"Gamma\"] = np.exp(-Q*T)*phi(d1)/(S*vol*T**0.5)\n",
    "    bookDict[strike][\"Vega\"] = S*np.exp(-Q*T)*phi(d1)*T**0.5\n",
    "t2 = time.time()\n",
    "print(\"Time to complete book:\", round(t2-t1, 2), \"seconds\")"
   ]
  },
  {
   "cell_type": "code",
   "execution_count": 6,
   "id": "716ffca4",
   "metadata": {
    "scrolled": false
   },
   "outputs": [
    {
     "data": {
      "text/html": [
       "<div>\n",
       "<style scoped>\n",
       "    .dataframe tbody tr th:only-of-type {\n",
       "        vertical-align: middle;\n",
       "    }\n",
       "\n",
       "    .dataframe tbody tr th {\n",
       "        vertical-align: top;\n",
       "    }\n",
       "\n",
       "    .dataframe thead th {\n",
       "        text-align: right;\n",
       "    }\n",
       "</style>\n",
       "<table border=\"1\" class=\"dataframe\">\n",
       "  <thead>\n",
       "    <tr style=\"text-align: right;\">\n",
       "      <th></th>\n",
       "      <th>Call</th>\n",
       "      <th>Put</th>\n",
       "      <th>IV</th>\n",
       "      <th>Call Delta</th>\n",
       "      <th>Put Delta</th>\n",
       "      <th>Gamma</th>\n",
       "      <th>Vega</th>\n",
       "    </tr>\n",
       "  </thead>\n",
       "  <tbody>\n",
       "    <tr>\n",
       "      <th>1900</th>\n",
       "      <td>2101.904</td>\n",
       "      <td>0.335</td>\n",
       "      <td>0.618087</td>\n",
       "      <td>0.995864</td>\n",
       "      <td>-0.001099</td>\n",
       "      <td>0.000004</td>\n",
       "      <td>6.062577</td>\n",
       "    </tr>\n",
       "    <tr>\n",
       "      <th>2000</th>\n",
       "      <td>2002.778</td>\n",
       "      <td>0.422</td>\n",
       "      <td>0.590328</td>\n",
       "      <td>0.995541</td>\n",
       "      <td>-0.001422</td>\n",
       "      <td>0.000005</td>\n",
       "      <td>7.677241</td>\n",
       "    </tr>\n",
       "    <tr>\n",
       "      <th>2100</th>\n",
       "      <td>1903.665</td>\n",
       "      <td>0.521</td>\n",
       "      <td>0.562704</td>\n",
       "      <td>0.995149</td>\n",
       "      <td>-0.001814</td>\n",
       "      <td>0.000006</td>\n",
       "      <td>9.579458</td>\n",
       "    </tr>\n",
       "    <tr>\n",
       "      <th>2200</th>\n",
       "      <td>1804.569</td>\n",
       "      <td>0.637</td>\n",
       "      <td>0.535504</td>\n",
       "      <td>0.994670</td>\n",
       "      <td>-0.002293</td>\n",
       "      <td>0.000008</td>\n",
       "      <td>11.850960</td>\n",
       "    </tr>\n",
       "    <tr>\n",
       "      <th>2300</th>\n",
       "      <td>1705.493</td>\n",
       "      <td>0.774</td>\n",
       "      <td>0.508734</td>\n",
       "      <td>0.994082</td>\n",
       "      <td>-0.002881</td>\n",
       "      <td>0.000010</td>\n",
       "      <td>14.566101</td>\n",
       "    </tr>\n",
       "    <tr>\n",
       "      <th>...</th>\n",
       "      <td>...</td>\n",
       "      <td>...</td>\n",
       "      <td>...</td>\n",
       "      <td>...</td>\n",
       "      <td>...</td>\n",
       "      <td>...</td>\n",
       "      <td>...</td>\n",
       "    </tr>\n",
       "    <tr>\n",
       "      <th>5250</th>\n",
       "      <td>0.129</td>\n",
       "      <td>1222.179</td>\n",
       "      <td>0.212406</td>\n",
       "      <td>0.001330</td>\n",
       "      <td>-0.995633</td>\n",
       "      <td>0.000012</td>\n",
       "      <td>7.221292</td>\n",
       "    </tr>\n",
       "    <tr>\n",
       "      <th>5275</th>\n",
       "      <td>0.122</td>\n",
       "      <td>1246.975</td>\n",
       "      <td>0.214814</td>\n",
       "      <td>0.001250</td>\n",
       "      <td>-0.995713</td>\n",
       "      <td>0.000012</td>\n",
       "      <td>6.821993</td>\n",
       "    </tr>\n",
       "    <tr>\n",
       "      <th>5300</th>\n",
       "      <td>0.115</td>\n",
       "      <td>1271.771</td>\n",
       "      <td>0.217128</td>\n",
       "      <td>0.001172</td>\n",
       "      <td>-0.995792</td>\n",
       "      <td>0.000011</td>\n",
       "      <td>6.429108</td>\n",
       "    </tr>\n",
       "    <tr>\n",
       "      <th>5325</th>\n",
       "      <td>0.109</td>\n",
       "      <td>1296.569</td>\n",
       "      <td>0.219505</td>\n",
       "      <td>0.001103</td>\n",
       "      <td>-0.995860</td>\n",
       "      <td>0.000010</td>\n",
       "      <td>6.085959</td>\n",
       "    </tr>\n",
       "    <tr>\n",
       "      <th>5350</th>\n",
       "      <td>0.104</td>\n",
       "      <td>1321.366</td>\n",
       "      <td>0.221967</td>\n",
       "      <td>0.001046</td>\n",
       "      <td>-0.995918</td>\n",
       "      <td>0.000010</td>\n",
       "      <td>5.792158</td>\n",
       "    </tr>\n",
       "  </tbody>\n",
       "</table>\n",
       "<p>281 rows × 7 columns</p>\n",
       "</div>"
      ],
      "text/plain": [
       "          Call       Put        IV  Call Delta  Put Delta     Gamma       Vega\n",
       "1900  2101.904     0.335  0.618087    0.995864  -0.001099  0.000004   6.062577\n",
       "2000  2002.778     0.422  0.590328    0.995541  -0.001422  0.000005   7.677241\n",
       "2100  1903.665     0.521  0.562704    0.995149  -0.001814  0.000006   9.579458\n",
       "2200  1804.569     0.637  0.535504    0.994670  -0.002293  0.000008  11.850960\n",
       "2300  1705.493     0.774  0.508734    0.994082  -0.002881  0.000010  14.566101\n",
       "...        ...       ...       ...         ...        ...       ...        ...\n",
       "5250     0.129  1222.179  0.212406    0.001330  -0.995633  0.000012   7.221292\n",
       "5275     0.122  1246.975  0.214814    0.001250  -0.995713  0.000012   6.821993\n",
       "5300     0.115  1271.771  0.217128    0.001172  -0.995792  0.000011   6.429108\n",
       "5325     0.109  1296.569  0.219505    0.001103  -0.995860  0.000010   6.085959\n",
       "5350     0.104  1321.366  0.221967    0.001046  -0.995918  0.000010   5.792158\n",
       "\n",
       "[281 rows x 7 columns]"
      ]
     },
     "execution_count": 6,
     "metadata": {},
     "output_type": "execute_result"
    }
   ],
   "source": [
    "#Final Data Frame\n",
    "finbook = pd.DataFrame.from_dict(bookDict).T\n",
    "finbook"
   ]
  },
  {
   "cell_type": "markdown",
   "id": "39673457",
   "metadata": {},
   "source": [
    "## Save the Options Books and Investigate the Calculated Values\n",
    "\n",
    "Since options are complex derivatives, its worth seeing how each variable changes with strike price. We will also save the options book as a csv file if we need to refer to it in the future. "
   ]
  },
  {
   "cell_type": "code",
   "execution_count": 8,
   "id": "6c1c9af2",
   "metadata": {},
   "outputs": [
    {
     "data": {
      "image/png": "[encoded data removed]",
      "text/plain": [
       "<Figure size 432x288 with 1 Axes>"
      ]
     },
     "metadata": {
      "needs_background": "light"
     },
     "output_type": "display_data"
    }
   ],
   "source": [
    "finbook.to_csv(\"OptimizedOptions.csv\")\n",
    "plt.plot(finbook[\"IV\"])\n",
    "plt.xlabel(\"Strike\")\n",
    "plt.ylabel(\"Implied Vol\")\n",
    "pass"
   ]
  },
  {
   "cell_type": "code",
   "execution_count": 10,
   "id": "adc1b902",
   "metadata": {},
   "outputs": [
    {
     "data": {
      "image/png": "[encoded data removed]",
      "text/plain": [
       "<Figure size 432x288 with 4 Axes>"
      ]
     },
     "metadata": {
      "needs_background": "light"
     },
     "output_type": "display_data"
    }
   ],
   "source": [
    "# Call Delta and Put Delta in first row, Gamma and Vega in second row\n",
    "fig, axs = plt.subplots(2, 2)\n",
    "axs[0, 0].plot(finbook[\"Call Delta\"])\n",
    "axs[0, 1].plot(finbook[\"Put Delta\"])\n",
    "axs[1, 0].plot(finbook[\"Gamma\"])\n",
    "axs[1, 1].plot(finbook[\"Vega\"])\n",
    "pass"
   ]
  },
  {
   "cell_type": "markdown",
   "id": "15fa043e",
   "metadata": {},
   "source": [
    "## Conclusion\n",
    "This project helped me familiarize myself with the basic Black-Scholes-Merton model as well as values associated with it including volatility and options Greeks. While this was an interesting project, there isn't much value generated by creating this model as most firms use different versions of the BSM model with more complex inputs. Thus a future direction for this project is creating my own augmented BSM model to help align the model better to current market prices and movements. "
   ]
  },
  {
   "cell_type": "code",
   "execution_count": null,
   "id": "a5dced01",
   "metadata": {},
   "outputs": [],
   "source": []
  }
 ],
 "metadata": {
  "kernelspec": {
   "display_name": "Python 3",
   "language": "python",
   "name": "python3"
  },
  "language_info": {
   "codemirror_mode": {
    "name": "ipython",
    "version": 3
   },
   "file_extension": ".py",
   "mimetype": "text/x-python",
   "name": "python",
   "nbconvert_exporter": "python",
   "pygments_lexer": "ipython3",
   "version": "3.8.8"
  }
 },
 "nbformat": 4,
 "nbformat_minor": 5
}
